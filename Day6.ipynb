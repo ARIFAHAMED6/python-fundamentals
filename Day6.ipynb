{
 "cells": [
  {
   "cell_type": "code",
   "execution_count": 7,
   "id": "f08d64ae-8b1b-42b9-88bf-127484e5833e",
   "metadata": {},
   "outputs": [
    {
     "name": "stdout",
     "output_type": "stream",
     "text": [
      "['naveen', 'amer', 'uday', 'sameer', 'anusha', 'bushra']\n",
      "<class 'list'>\n"
     ]
    }
   ],
   "source": [
    "#looping statements:\n",
    "students=['naveen','amer','uday','sameer','anusha','bushra']\n",
    "print(students)\n",
    "print(type(students))"
   ]
  },
  {
   "cell_type": "code",
   "execution_count": 13,
   "id": "fba0179b-b51d-4803-abbe-b710a3027fda",
   "metadata": {},
   "outputs": [
    {
     "name": "stdout",
     "output_type": "stream",
     "text": [
      "keep up the good work,['naveen', 'amer', 'uday', 'sameer', 'anusha', 'bushra']\n",
      "keep up the good work,amer\n",
      "keep up the good work,Amer\n"
     ]
    }
   ],
   "source": [
    "#appreciate the list of students in the above\n",
    "print(f\"keep up the good work,{students}\")\n",
    "print(f\"keep up the good work,{students[1]}\")\n",
    "print(f\"keep up the good work,{students[1].title()}\")"
   ]
  },
  {
   "cell_type": "code",
   "execution_count": 25,
   "id": "1fe8eef0-6ea3-4532-80c9-8c366764bc56",
   "metadata": {},
   "outputs": [
    {
     "name": "stdout",
     "output_type": "stream",
     "text": [
      "keep up good work,Naveen\n",
      "keep up good work,Amer\n",
      "keep up good work,Uday\n",
      "keep up good work,Sameer\n",
      "keep up good work,Anusha\n",
      "keep up good work,Bushra\n"
     ]
    }
   ],
   "source": [
    "#for characters in students:\n",
    "    print(f\"keep up good work,{characters.title()}\")"
   ]
  },
  {
   "cell_type": "code",
   "execution_count": 33,
   "id": "aa2500fd-2125-4488-8d3e-982ab252b402",
   "metadata": {},
   "outputs": [
    {
     "name": "stdout",
     "output_type": "stream",
     "text": [
      "keep up the goodwork,Naveen\n",
      "keep up the goodwork,Amer\n",
      "keep up the goodwork,Uday\n",
      "keep up the goodwork,Sameer\n",
      "keep up the goodwork,Anusha\n",
      "keep up the goodwork,Bushra\n"
     ]
    }
   ],
   "source": [
    "for x in students:\n",
    "    print(f\"keep up the goodwork,{x.title()}\")\n",
    "\n"
   ]
  },
  {
   "cell_type": "code",
   "execution_count": 35,
   "id": "f57f915f-bc9b-4460-be33-03d2f8314c13",
   "metadata": {},
   "outputs": [
    {
     "name": "stdout",
     "output_type": "stream",
     "text": [
      "naveen\n",
      "amer\n",
      "uday\n",
      "sameer\n",
      "anusha\n",
      "bushra\n"
     ]
    }
   ],
   "source": [
    "for ironman in students:\n",
    "    print(ironman)"
   ]
  },
  {
   "cell_type": "code",
   "execution_count": 37,
   "id": "86a37143-e0a5-4bb5-bbc2-cf8674eec234",
   "metadata": {},
   "outputs": [
    {
     "name": "stdout",
     "output_type": "stream",
     "text": [
      "keep up the goodwork,Naveen\n",
      "do submit your work for today without fail,Naveen\n",
      "keep up the goodwork,Amer\n",
      "do submit your work for today without fail,Amer\n",
      "keep up the goodwork,Uday\n",
      "do submit your work for today without fail,Uday\n",
      "keep up the goodwork,Sameer\n",
      "do submit your work for today without fail,Sameer\n",
      "keep up the goodwork,Anusha\n",
      "do submit your work for today without fail,Anusha\n",
      "keep up the goodwork,Bushra\n",
      "do submit your work for today without fail,Bushra\n"
     ]
    }
   ],
   "source": [
    "for x in students:\n",
    "    print(f\"keep up the goodwork,{x.title()}\")\n",
    "    print(f\"do submit your work for today without fail,{x.title()}\")"
   ]
  },
  {
   "cell_type": "code",
   "execution_count": 39,
   "id": "980b1ab0-c007-4294-819c-daeabd0d9f8d",
   "metadata": {},
   "outputs": [
    {
     "name": "stdout",
     "output_type": "stream",
     "text": [
      "keep up the goodwork,Naveen\n",
      "do submit your work for today without fail,Naveen\n",
      "\n",
      "keep up the goodwork,Amer\n",
      "do submit your work for today without fail,Amer\n",
      "\n",
      "keep up the goodwork,Uday\n",
      "do submit your work for today without fail,Uday\n",
      "\n",
      "keep up the goodwork,Sameer\n",
      "do submit your work for today without fail,Sameer\n",
      "\n",
      "keep up the goodwork,Anusha\n",
      "do submit your work for today without fail,Anusha\n",
      "\n",
      "keep up the goodwork,Bushra\n",
      "do submit your work for today without fail,Bushra\n",
      "\n"
     ]
    }
   ],
   "source": [
    "#enhancement of the code:                #makes gap between one cell to another cell\n",
    "for x in students:\n",
    "    print(f\"keep up the goodwork,{x.title()}\")\n",
    "    print(f\"do submit your work for today without fail,{x.title()}\\n\")"
   ]
  },
  {
   "cell_type": "code",
   "execution_count": 49,
   "id": "5a34db27-3264-4c9b-b467-a494678ea615",
   "metadata": {},
   "outputs": [
    {
     "ename": "IndentationError",
     "evalue": "expected an indented block after 'for' statement on line 2 (1075401546.py, line 3)",
     "output_type": "error",
     "traceback": [
      "\u001b[1;36m  Cell \u001b[1;32mIn[49], line 3\u001b[1;36m\u001b[0m\n\u001b[1;33m    print(ironman)\u001b[0m\n\u001b[1;37m    ^\u001b[0m\n\u001b[1;31mIndentationError\u001b[0m\u001b[1;31m:\u001b[0m expected an indented block after 'for' statement on line 2\n"
     ]
    }
   ],
   "source": [
    "#indentation error\n",
    "for ironman in students:\n",
    "print(ironman)"
   ]
  },
  {
   "cell_type": "code",
   "execution_count": null,
   "id": "6a09a073-3e2d-4f75-9720-e051aaf905bc",
   "metadata": {},
   "outputs": [],
   "source": []
  }
 ],
 "metadata": {
  "kernelspec": {
   "display_name": "Python 3 (ipykernel)",
   "language": "python",
   "name": "python3"
  },
  "language_info": {
   "codemirror_mode": {
    "name": "ipython",
    "version": 3
   },
   "file_extension": ".py",
   "mimetype": "text/x-python",
   "name": "python",
   "nbconvert_exporter": "python",
   "pygments_lexer": "ipython3",
   "version": "3.12.4"
  }
 },
 "nbformat": 4,
 "nbformat_minor": 5
}
