{
 "cells": [
  {
   "cell_type": "code",
   "execution_count": 15,
   "id": "a39c50bb-016f-4a5c-a751-cee49e1f82bf",
   "metadata": {},
   "outputs": [
    {
     "name": "stdout",
     "output_type": "stream",
     "text": [
      "['saima', 'keerthi', 'naveen', 'kalyan', 'sajith', 'praveen']\n",
      "<class 'list'>\n",
      "Saima\n"
     ]
    }
   ],
   "source": [
    "#list data type . list data type is a \"mutable\"\n",
    "'''we can declare list by using square brackets'''\n",
    "students=['saima','keerthi','naveen','kalyan','sajith','praveen']\n",
    "print(students)\n",
    "#we are checking the datatype\n",
    "print(type(students))\n",
    "#again we are using title method to correct name\n",
    "print(students[0].title())"
   ]
  },
  {
   "cell_type": "code",
   "execution_count": 21,
   "id": "2b6cfb1f-d49f-4ae7-8c30-26cdc299b7a0",
   "metadata": {},
   "outputs": [
    {
     "name": "stdout",
     "output_type": "stream",
     "text": [
      "keerthi\n"
     ]
    }
   ],
   "source": [
    "'''indexation'''\n",
    "#req: i want to access keerthi name in the output\n",
    "print(students[1])"
   ]
  },
  {
   "cell_type": "code",
   "execution_count": 27,
   "id": "4f3b2d86-6e0f-46cb-9ebd-b9fd53019a4c",
   "metadata": {},
   "outputs": [
    {
     "name": "stdout",
     "output_type": "stream",
     "text": [
      "Keerthi\n"
     ]
    }
   ],
   "source": [
    "#we are using title() method\n",
    "print(students[1].title())"
   ]
  },
  {
   "cell_type": "code",
   "execution_count": null,
   "id": "79961875-9b16-41a5-a066-7995459f35b5",
   "metadata": {},
   "outputs": [],
   "source": [
    "'''Doing multiple operations using list'''\n",
    "#1.how to add new elements in the list\n",
    "#2.how to modify new elements in the list\n",
    "#3.how to alter new elements in the list"
   ]
  },
  {
   "cell_type": "code",
   "execution_count": 79,
   "id": "974aef3d-410f-40eb-be55-d7c92b51e122",
   "metadata": {},
   "outputs": [
    {
     "name": "stdout",
     "output_type": "stream",
     "text": [
      "['saima', 'keerthi', 'naveen', 'kalyan', 'sajith', 'praveen', 'adil']\n"
     ]
    }
   ],
   "source": [
    "#1. I want to add adil to the list\n",
    "students=['saima','keerthi','naveen','kalyan','sajith','praveen']\n",
    "students.append('adil')\n",
    "print(students)"
   ]
  },
  {
   "cell_type": "code",
   "execution_count": 81,
   "id": "13474215-3a71-4e79-af1c-d426143fab05",
   "metadata": {},
   "outputs": [
    {
     "name": "stdout",
     "output_type": "stream",
     "text": [
      "['saima', 'keerthi', 'naveen', 'kalyan', 'sajith', 'praveen', 'adil', 'arif']\n",
      "['saima', 'keerthi', 'arif', 'naveen', 'kalyan', 'sajith', 'praveen', 'adil', 'arif']\n"
     ]
    }
   ],
   "source": [
    "#adding 'arif' to the list\n",
    "students=['saima', 'keerthi', 'naveen', 'kalyan', 'sajith', 'praveen', 'adil']\n",
    "students.append('arif')\n",
    "print(students)\n",
    "#  insert 'arif' at indexplace 2\n",
    "students.insert(2,'arif')\n",
    "print(students)"
   ]
  },
  {
   "cell_type": "code",
   "execution_count": 83,
   "id": "61394870-6d25-4d01-bc1b-107b6eeadd26",
   "metadata": {},
   "outputs": [
    {
     "name": "stdout",
     "output_type": "stream",
     "text": [
      "['saima', 'kiran', 'arif', 'naveen', 'kalyan', 'sajith', 'praveen', 'adil', 'arif']\n"
     ]
    }
   ],
   "source": [
    "# 2.I want to modify the elements in the list\n",
    "students[1]='kiran'\n",
    "print(students)"
   ]
  },
  {
   "cell_type": "code",
   "execution_count": 85,
   "id": "92935a49-807f-4b8d-b5d5-3e365ada0184",
   "metadata": {},
   "outputs": [
    {
     "name": "stdout",
     "output_type": "stream",
     "text": [
      "['saima', 'kiran', 'keerthi', 'naveen', 'kalyan', 'sajith', 'praveen', 'adil', 'arif']\n"
     ]
    }
   ],
   "source": [
    "students[2]='keerthi'\n",
    "print(students)"
   ]
  },
  {
   "cell_type": "code",
   "execution_count": 87,
   "id": "32b565d4-febb-435f-b5c5-c37623e2dc41",
   "metadata": {},
   "outputs": [
    {
     "name": "stdout",
     "output_type": "stream",
     "text": [
      "['saima', 'kiran', 'naveen', 'kalyan', 'sajith', 'praveen', 'adil', 'arif']\n"
     ]
    }
   ],
   "source": [
    "#3.I want to delete the elements from the list\n",
    "del students[2]\n",
    "print(students)"
   ]
  },
  {
   "cell_type": "code",
   "execution_count": null,
   "id": "bb8570d0-a7bf-40f0-9a74-ec9586192ad1",
   "metadata": {},
   "outputs": [],
   "source": []
  },
  {
   "cell_type": "code",
   "execution_count": null,
   "id": "d9be63dd-39db-4b01-b285-eb4479f5a2a4",
   "metadata": {},
   "outputs": [],
   "source": []
  },
  {
   "cell_type": "code",
   "execution_count": null,
   "id": "04ca8aaf-facb-45a0-8122-fc93cacea350",
   "metadata": {},
   "outputs": [],
   "source": []
  },
  {
   "cell_type": "code",
   "execution_count": null,
   "id": "7b06a5cd-85cf-41ee-befe-ae5466908922",
   "metadata": {},
   "outputs": [],
   "source": []
  },
  {
   "cell_type": "code",
   "execution_count": null,
   "id": "b2002df8-fad6-4c3e-8eab-eb03e55a62c4",
   "metadata": {},
   "outputs": [],
   "source": []
  }
 ],
 "metadata": {
  "kernelspec": {
   "display_name": "Python 3 (ipykernel)",
   "language": "python",
   "name": "python3"
  },
  "language_info": {
   "codemirror_mode": {
    "name": "ipython",
    "version": 3
   },
   "file_extension": ".py",
   "mimetype": "text/x-python",
   "name": "python",
   "nbconvert_exporter": "python",
   "pygments_lexer": "ipython3",
   "version": "3.12.4"
  }
 },
 "nbformat": 4,
 "nbformat_minor": 5
}
