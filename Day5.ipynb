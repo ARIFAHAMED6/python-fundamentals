{
 "cells": [
  {
   "cell_type": "code",
   "execution_count": 3,
   "id": "6283e71a-e65d-4e3f-87ae-01bd0cb7c1dc",
   "metadata": {},
   "outputs": [
    {
     "name": "stdout",
     "output_type": "stream",
     "text": [
      "['benz', 'maruthi', 'audi', 'suzuki', 'bmw', 'kia']\n"
     ]
    }
   ],
   "source": [
    "#Organizing the list data type\n",
    "cars=['benz','maruthi','audi','suzuki','bmw','kia']\n",
    "print(cars)"
   ]
  },
  {
   "cell_type": "code",
   "execution_count": 11,
   "id": "e5599213-ed6b-48a2-b5ec-1000ecd7cb72",
   "metadata": {},
   "outputs": [
    {
     "name": "stdout",
     "output_type": "stream",
     "text": [
      "['audi', 'benz', 'bmw', 'kia', 'maruthi', 'suzuki']\n",
      "['benz', 'maruthi', 'audi', 'suzuki', 'bmw', 'kia']\n"
     ]
    }
   ],
   "source": [
    "#organizing the list into A-Z order\n",
    "#we are applying temporary approach\n",
    "print(sorted(cars))\n",
    "print(cars)"
   ]
  },
  {
   "cell_type": "code",
   "execution_count": 43,
   "id": "dd0da406-d670-47fe-a92c-f49684f3dde3",
   "metadata": {},
   "outputs": [
    {
     "name": "stdout",
     "output_type": "stream",
     "text": [
      "['audi', 'benz', 'bmw', 'kia', 'maruthi', 'suzuki']\n"
     ]
    }
   ],
   "source": [
    "#we are applying permanent approach to the list\n",
    "cars.sort()\n",
    "print(cars)"
   ]
  },
  {
   "cell_type": "code",
   "execution_count": 41,
   "id": "4e002970-8b36-4953-b530-8110f9a5d90c",
   "metadata": {},
   "outputs": [
    {
     "name": "stdout",
     "output_type": "stream",
     "text": [
      "['suzuki', 'maruthi', 'kia', 'bmw', 'benz', 'audi']\n"
     ]
    }
   ],
   "source": [
    "#reversing order\n",
    "cars.reverse()\n",
    "print(cars)"
   ]
  },
  {
   "cell_type": "code",
   "execution_count": 61,
   "id": "1540b511-857e-40a6-8276-d10b834a455b",
   "metadata": {},
   "outputs": [
    {
     "name": "stdout",
     "output_type": "stream",
     "text": [
      "6\n",
      "maruthi\n"
     ]
    }
   ],
   "source": [
    "#total count of the elements\n",
    "print(len(cars))\n",
    "print(cars[4])"
   ]
  },
  {
   "cell_type": "code",
   "execution_count": 69,
   "id": "f2193929-eb26-4fd5-9434-7eec17934454",
   "metadata": {},
   "outputs": [
    {
     "name": "stdout",
     "output_type": "stream",
     "text": [
      "['aditi', 'naveen', 'saima', 'keerthi', 'nouman', 'joseph']\n"
     ]
    },
    {
     "data": {
      "text/plain": [
       "list"
      ]
     },
     "execution_count": 69,
     "metadata": {},
     "output_type": "execute_result"
    }
   ],
   "source": [
    "#slicing the list:\n",
    "students=['aditi','naveen','saima','keerthi','nouman','joseph']\n",
    "print(students)\n",
    "type(students)"
   ]
  },
  {
   "cell_type": "code",
   "execution_count": 81,
   "id": "26a01a9c-c378-4835-9c0c-fb77b6671d52",
   "metadata": {},
   "outputs": [
    {
     "name": "stdout",
     "output_type": "stream",
     "text": [
      "['aditi', 'naveen']\n",
      "['saima', 'keerthi']\n",
      "['nouman', 'joseph']\n",
      "['aditi', 'saima', 'nouman']\n"
     ]
    }
   ],
   "source": [
    "#req: i want aditi and naveen \n",
    "print(students[0:2])\n",
    "# i want saiama and keerthi\n",
    "print(students[2:4])\n",
    "# i want nouman,joseph\n",
    "print(students[4:6])\n",
    "\n",
    "#req: i want aditi,saima,and nouman in the output\n",
    "print(students[0:6:2])"
   ]
  },
  {
   "cell_type": "code",
   "execution_count": null,
   "id": "7147d853-b3c0-40ba-8d53-f72d4170c796",
   "metadata": {},
   "outputs": [],
   "source": []
  },
  {
   "cell_type": "code",
   "execution_count": null,
   "id": "04a75050-9233-4a27-b92b-ca0d4279fd91",
   "metadata": {},
   "outputs": [],
   "source": []
  },
  {
   "cell_type": "code",
   "execution_count": null,
   "id": "d90168f2-750f-46b1-9425-ad7393c92c42",
   "metadata": {},
   "outputs": [],
   "source": []
  },
  {
   "cell_type": "code",
   "execution_count": null,
   "id": "480dc940-bed4-4d36-b391-251949f71531",
   "metadata": {},
   "outputs": [],
   "source": []
  },
  {
   "cell_type": "code",
   "execution_count": null,
   "id": "05dc3fb9-fa9d-4353-9765-babd06def879",
   "metadata": {},
   "outputs": [],
   "source": []
  },
  {
   "cell_type": "code",
   "execution_count": null,
   "id": "05173111-2874-4253-a591-156b6ff30984",
   "metadata": {},
   "outputs": [],
   "source": []
  },
  {
   "cell_type": "code",
   "execution_count": null,
   "id": "f5dd11e1-f06a-4a72-9611-a66b3cc3b3c4",
   "metadata": {},
   "outputs": [],
   "source": []
  }
 ],
 "metadata": {
  "kernelspec": {
   "display_name": "Python 3 (ipykernel)",
   "language": "python",
   "name": "python3"
  },
  "language_info": {
   "codemirror_mode": {
    "name": "ipython",
    "version": 3
   },
   "file_extension": ".py",
   "mimetype": "text/x-python",
   "name": "python",
   "nbconvert_exporter": "python",
   "pygments_lexer": "ipython3",
   "version": "3.12.4"
  }
 },
 "nbformat": 4,
 "nbformat_minor": 5
}
