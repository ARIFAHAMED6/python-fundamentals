{
 "cells": [
  {
   "cell_type": "code",
   "execution_count": 62,
   "id": "35b3a04f-961c-46a5-ac5c-f35450b0cbbe",
   "metadata": {},
   "outputs": [
    {
     "name": "stdout",
     "output_type": "stream",
     "text": [
      "ravikumar\n"
     ]
    }
   ],
   "source": [
    "#Day-3 Continuation of string datatype\n",
    "firstname='ravi'\n",
    "secondname='kumar'\n",
    "fullname=f\"{firstname}{secondname}\"\n",
    "print(fullname)"
   ]
  },
  {
   "cell_type": "code",
   "execution_count": 54,
   "id": "620c58fc-255d-4596-8d82-8207b9628c41",
   "metadata": {},
   "outputs": [
    {
     "name": "stdout",
     "output_type": "stream",
     "text": [
      "Ravikumar\n"
     ]
    }
   ],
   "source": [
    "#adding title() method in fullname\n",
    "print(fullname.title())"
   ]
  },
  {
   "cell_type": "code",
   "execution_count": 84,
   "id": "c0bbb301-d73e-4294-9efc-a92bc212b88f",
   "metadata": {},
   "outputs": [
    {
     "name": "stdout",
     "output_type": "stream",
     "text": [
      "keep it up ravikumar\n"
     ]
    }
   ],
   "source": [
    "#Introduction of f string\n",
    "#f\"custom message{placeholder1}{placeholder2}...{placeholdern}\"\n",
    "message=f\"keep it up {fullname}\"\n",
    "print(message)\n"
   ]
  },
  {
   "cell_type": "code",
   "execution_count": 74,
   "id": "afc0a32e-ef45-4e0f-b6fa-85258769f008",
   "metadata": {},
   "outputs": [
    {
     "name": "stdout",
     "output_type": "stream",
     "text": [
      "keep it up Ravikumar\n"
     ]
    }
   ],
   "source": [
    "message=f\"keep it up {fullname.title()}\"\n",
    "print(message)         \n",
    "         "
   ]
  },
  {
   "cell_type": "code",
   "execution_count": 94,
   "id": "cd589ee3-718a-4428-8450-bb20656a5683",
   "metadata": {},
   "outputs": [
    {
     "name": "stdout",
     "output_type": "stream",
     "text": [
      "favourite_prog_language:\n",
      "java\n",
      "python\n",
      "c\n",
      "ruby\n",
      "swift\n",
      "pascal\n"
     ]
    }
   ],
   "source": [
    "#adding white spaces to string(sequence character\\)\n",
    "print(\"favourite_prog_language:\\njava\\npython\\nc\\nruby\\nswift\\npascal\")#it defines new line to a character\n"
   ]
  },
  {
   "cell_type": "code",
   "execution_count": 92,
   "id": "5b456c47-23e0-4046-847a-d6146581f2e8",
   "metadata": {},
   "outputs": [
    {
     "name": "stdout",
     "output_type": "stream",
     "text": [
      "favourite_prog_language:\n",
      "\tjava\n",
      "\tnpython\n",
      "\tc\n",
      "\truby\n",
      "\tswift\n",
      "\tpascal\n"
     ]
    }
   ],
   "source": [
    "#adding for tab spaces to the previous string by using(/t)\n",
    "print(\"favourite_prog_language:\\n\\tjava\\n\\tnpython\\n\\tc\\n\\truby\\n\\tswift\\n\\tpascal\")\n"
   ]
  },
  {
   "cell_type": "code",
   "execution_count": 98,
   "id": "62de9fe5-0ca5-43ee-b299-53d4fd2a36ce",
   "metadata": {},
   "outputs": [
    {
     "name": "stdout",
     "output_type": "stream",
     "text": [
      "python\n"
     ]
    }
   ],
   "source": [
    "#removing white spaces from a string\n",
    "name='python'        #no spaces\n",
    "print(name)\n"
   ]
  },
  {
   "cell_type": "code",
   "execution_count": 100,
   "id": "a2b5c2aa-b7ee-40ac-94cb-8fff48c10447",
   "metadata": {},
   "outputs": [
    {
     "name": "stdout",
     "output_type": "stream",
     "text": [
      "  python\n"
     ]
    }
   ],
   "source": [
    "name='  python'\n",
    "print(name)"
   ]
  },
  {
   "cell_type": "code",
   "execution_count": null,
   "id": "7d233a64-7809-4663-8659-7c552e3732ca",
   "metadata": {},
   "outputs": [],
   "source": []
  }
 ],
 "metadata": {
  "kernelspec": {
   "display_name": "Python 3 (ipykernel)",
   "language": "python",
   "name": "python3"
  },
  "language_info": {
   "codemirror_mode": {
    "name": "ipython",
    "version": 3
   },
   "file_extension": ".py",
   "mimetype": "text/x-python",
   "name": "python",
   "nbconvert_exporter": "python",
   "pygments_lexer": "ipython3",
   "version": "3.12.4"
  }
 },
 "nbformat": 4,
 "nbformat_minor": 5
}
