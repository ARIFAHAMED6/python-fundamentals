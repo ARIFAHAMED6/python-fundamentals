{
 "cells": [
  {
   "cell_type": "code",
   "execution_count": null,
   "id": "132558c7-df27-4427-ad66-cdd493acb353",
   "metadata": {},
   "outputs": [],
   "source": [
    "#string datatype\n",
    "#a string is a series of characters declared in quotes(''\"\")"
   ]
  },
  {
   "cell_type": "code",
   "execution_count": 2,
   "id": "dd76ef24-bf8c-434b-9220-deecd233da03",
   "metadata": {},
   "outputs": [
    {
     "name": "stdout",
     "output_type": "stream",
     "text": [
      "arif\n"
     ]
    }
   ],
   "source": [
    "#using single quote in a string\n",
    "name='arif'\n",
    "print(name)"
   ]
  },
  {
   "cell_type": "code",
   "execution_count": 26,
   "id": "e56b627b-880d-4fc0-a861-b1430bf38359",
   "metadata": {},
   "outputs": [
    {
     "name": "stdout",
     "output_type": "stream",
     "text": [
      "arif ahamed\n"
     ]
    }
   ],
   "source": [
    "#usimg double quotes in a string\n",
    "name=\"arif ahamed\"\n",
    "print(name)"
   ]
  },
  {
   "cell_type": "code",
   "execution_count": 24,
   "id": "b82e3d5b-bcb8-45b3-80d4-b66cffc604d6",
   "metadata": {},
   "outputs": [
    {
     "name": "stdout",
     "output_type": "stream",
     "text": [
      "<class 'str'>\n"
     ]
    }
   ],
   "source": [
    "#string methods\n",
    "#we use type() method in string to find out what type of data type \n",
    "name=\"arif ahamed\"\n",
    "print(type(name))"
   ]
  },
  {
   "cell_type": "code",
   "execution_count": 14,
   "id": "eed26969-1a8c-4058-8506-038208f3e65e",
   "metadata": {},
   "outputs": [
    {
     "name": "stdout",
     "output_type": "stream",
     "text": [
      "<class 'int'>\n",
      "<class 'str'>\n"
     ]
    }
   ],
   "source": [
    "#example-2\n",
    "name1= 23\n",
    "print(type(name1))\n",
    "print(type(name))"
   ]
  },
  {
   "cell_type": "code",
   "execution_count": 22,
   "id": "6c311f99-8357-49d4-9358-fafe80025fc4",
   "metadata": {},
   "outputs": [
    {
     "name": "stdout",
     "output_type": "stream",
     "text": [
      "Arif Ahamed\n"
     ]
    }
   ],
   "source": [
    "#2.title()method\n",
    "name=\"arif ahamed\"\n",
    "print(name.title())\n"
   ]
  },
  {
   "cell_type": "code",
   "execution_count": 28,
   "id": "fb100cba-b01d-4db5-b7e1-135ec41af755",
   "metadata": {},
   "outputs": [
    {
     "name": "stdout",
     "output_type": "stream",
     "text": [
      "ARIF AHAMED\n"
     ]
    }
   ],
   "source": [
    "#3.upper()method\n",
    "#its is used to CAPITALIZE all the letters\n",
    "name=\"arif ahamed\"\n",
    "print(name.upper())"
   ]
  },
  {
   "cell_type": "code",
   "execution_count": 30,
   "id": "4532a303-84b5-4544-80c9-7a3c6fd78f6c",
   "metadata": {},
   "outputs": [
    {
     "name": "stdout",
     "output_type": "stream",
     "text": [
      "arif ahamed\n"
     ]
    }
   ],
   "source": [
    "#4.lower case()method\n",
    "name0=\"ArIf AHAmeD\"\n",
    "print(name0.lower())"
   ]
  },
  {
   "cell_type": "code",
   "execution_count": null,
   "id": "135352e5-9531-4b3b-815d-6346f50b65a6",
   "metadata": {},
   "outputs": [],
   "source": []
  },
  {
   "cell_type": "code",
   "execution_count": null,
   "id": "d9d3f5ad-43af-45e5-b436-a73293d2cabd",
   "metadata": {},
   "outputs": [],
   "source": []
  },
  {
   "cell_type": "code",
   "execution_count": null,
   "id": "a3dd9376-2075-4ec9-9dbe-5d4f545ca651",
   "metadata": {},
   "outputs": [],
   "source": []
  },
  {
   "cell_type": "code",
   "execution_count": null,
   "id": "cf5bc9a5-c5d5-4469-8a43-29478006f1a7",
   "metadata": {},
   "outputs": [],
   "source": []
  },
  {
   "cell_type": "code",
   "execution_count": null,
   "id": "d3116ed5-7ea5-43a3-b6c6-08f260e8468e",
   "metadata": {},
   "outputs": [],
   "source": []
  },
  {
   "cell_type": "code",
   "execution_count": null,
   "id": "fabe583c-1e94-4e97-84c1-0d38957c1c23",
   "metadata": {},
   "outputs": [],
   "source": []
  }
 ],
 "metadata": {
  "kernelspec": {
   "display_name": "Python 3 (ipykernel)",
   "language": "python",
   "name": "python3"
  },
  "language_info": {
   "codemirror_mode": {
    "name": "ipython",
    "version": 3
   },
   "file_extension": ".py",
   "mimetype": "text/x-python",
   "name": "python",
   "nbconvert_exporter": "python",
   "pygments_lexer": "ipython3",
   "version": "3.12.4"
  }
 },
 "nbformat": 4,
 "nbformat_minor": 5
}
