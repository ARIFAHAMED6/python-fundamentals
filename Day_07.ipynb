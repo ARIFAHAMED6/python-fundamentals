{
 "cells": [
  {
   "cell_type": "code",
   "execution_count": 7,
   "id": "7020e75f-5d92-4b1c-aca7-396df29f4674",
   "metadata": {},
   "outputs": [
    {
     "name": "stdout",
     "output_type": "stream",
     "text": [
      "(100, 200)\n"
     ]
    },
    {
     "data": {
      "text/plain": [
       "tuple"
      ]
     },
     "execution_count": 7,
     "metadata": {},
     "output_type": "execute_result"
    }
   ],
   "source": [
    "#Introduction to tuple data type\n",
    "# A tuple is a immutable data type\n",
    "#A tuple is a order collection of items ====>()\n",
    "dimensions=(100,200)\n",
    "print(dimensions)\n",
    "type(dimensions)"
   ]
  },
  {
   "cell_type": "code",
   "execution_count": 19,
   "id": "e37d1496-257d-4e89-b387-4b38b42042f9",
   "metadata": {},
   "outputs": [
    {
     "ename": "NameError",
     "evalue": "name 'dimension' is not defined",
     "output_type": "error",
     "traceback": [
      "\u001b[1;31m---------------------------------------------------------------------------\u001b[0m",
      "\u001b[1;31mNameError\u001b[0m                                 Traceback (most recent call last)",
      "Cell \u001b[1;32mIn[19], line 3\u001b[0m\n\u001b[0;32m      1\u001b[0m \u001b[38;5;66;03m#I want to change 100...150 in the tuple\u001b[39;00m\n\u001b[0;32m      2\u001b[0m \u001b[38;5;66;03m#is it possible to modify the tuple\u001b[39;00m\n\u001b[1;32m----> 3\u001b[0m dimension[\u001b[38;5;241m0\u001b[39m]\u001b[38;5;241m=\u001b[39m\u001b[38;5;241m150\u001b[39m\n",
      "\u001b[1;31mNameError\u001b[0m: name 'dimension' is not defined"
     ]
    }
   ],
   "source": [
    "#I want to change 100...150 in the tuple\n",
    "#is it possible to modify the tuple\n",
    "dimension[0]=150"
   ]
  },
  {
   "cell_type": "code",
   "execution_count": 35,
   "id": "04353572-3576-4366-b846-6cdf9bbcfc25",
   "metadata": {},
   "outputs": [
    {
     "name": "stdout",
     "output_type": "stream",
     "text": [
      "('naveen', 'praveen', 'vaideki', 'sushma')\n",
      "<class 'tuple'>\n"
     ]
    }
   ],
   "source": [
    "students=('naveen', 'praveen','vaideki','sushma')\n",
    "print(students)\n",
    "print(type(students))"
   ]
  },
  {
   "cell_type": "code",
   "execution_count": 43,
   "id": "0bde1fa4-d5c8-4ecc-a5a7-72787d86cfa8",
   "metadata": {},
   "outputs": [
    {
     "name": "stdout",
     "output_type": "stream",
     "text": [
      "naveen\n",
      "praveen\n",
      "vaideki\n",
      "sushma\n"
     ]
    }
   ],
   "source": [
    "#we are using looping statement in the tuple\n",
    "for x in students:\n",
    "     print(x)"
   ]
  },
  {
   "cell_type": "code",
   "execution_count": null,
   "id": "32120894-1654-402c-ab53-2bca525080d1",
   "metadata": {},
   "outputs": [],
   "source": [
    "\n",
    "\n",
    "\n"
   ]
  },
  {
   "cell_type": "code",
   "execution_count": 49,
   "id": "79ed60e9-db4b-4565-b952-fc38de69f832",
   "metadata": {},
   "outputs": [],
   "source": [
    "Introduction to dictionary data type\n",
    "A dictionary is a combination of key value pairs,it is classified as the mutuable datatype\n",
    "it can define by using the ===>{}\n"
   ]
  },
  {
   "cell_type": "code",
   "execution_count": 93,
   "id": "7e5df5a3-fae1-4e82-8534-2fc12c12f9d2",
   "metadata": {},
   "outputs": [
    {
     "name": "stdout",
     "output_type": "stream",
     "text": [
      "{'colour': 'green', 'points': 10}\n",
      "<class 'dict'>\n"
     ]
    }
   ],
   "source": [
    "alien={'colour':'green','points':10}\n",
    "print(alien)\n",
    "print(type(alien))"
   ]
  },
  {
   "cell_type": "code",
   "execution_count": null,
   "id": "14759dc7-2930-4a2c-b0b3-bb39dbe94c9a",
   "metadata": {},
   "outputs": [],
   "source": []
  },
  {
   "cell_type": "code",
   "execution_count": 104,
   "id": "5cb1b435-d5ec-4cfa-9f52-7558dc2277f3",
   "metadata": {},
   "outputs": [
    {
     "name": "stdout",
     "output_type": "stream",
     "text": [
      "{'colour': 'green', 'points': 10, 'start_position': 'level0', 'current_position': 'level1'}\n",
      "{'colour': 'green', 'points': 10, 'start_position': 'level0', 'current_position': 'level1'}\n"
     ]
    }
   ],
   "source": [
    "#req: i want to add key and value pairs into the dictionary\n",
    "alien['start_position']='level0'\n",
    "print(alien)\n",
    "alien ['current_position']='level1'\n",
    "print(alien)"
   ]
  },
  {
   "cell_type": "code",
   "execution_count": 116,
   "id": "9fd68093-7a82-44b1-ae1d-4f1544121220",
   "metadata": {},
   "outputs": [
    {
     "data": {
      "text/plain": [
       "'level1'"
      ]
     },
     "execution_count": 116,
     "metadata": {},
     "output_type": "execute_result"
    }
   ],
   "source": [
    "alien['colour']\n",
    "alien['current_position']"
   ]
  },
  {
   "cell_type": "code",
   "execution_count": 118,
   "id": "6e706b70-a737-43ec-907d-543aec2bdb1d",
   "metadata": {},
   "outputs": [
    {
     "ename": "KeyError",
     "evalue": "'green'",
     "output_type": "error",
     "traceback": [
      "\u001b[1;31m---------------------------------------------------------------------------\u001b[0m",
      "\u001b[1;31mKeyError\u001b[0m                                  Traceback (most recent call last)",
      "Cell \u001b[1;32mIn[118], line 2\u001b[0m\n\u001b[0;32m      1\u001b[0m \u001b[38;5;66;03m#can we get the key by giving the value..\u001b[39;00m\n\u001b[1;32m----> 2\u001b[0m alien[\u001b[38;5;124m'\u001b[39m\u001b[38;5;124mgreen\u001b[39m\u001b[38;5;124m'\u001b[39m]\n",
      "\u001b[1;31mKeyError\u001b[0m: 'green'"
     ]
    }
   ],
   "source": [
    "#can we get the key by giving the value..\n",
    "alien['green']"
   ]
  },
  {
   "cell_type": "code",
   "execution_count": 124,
   "id": "2c8707ad-7c4d-4717-8060-8239153f010e",
   "metadata": {},
   "outputs": [],
   "source": [
    "\n",
    "***implementation of the for loop on the dictionaries:***\n",
    " general syntax:\n",
    "for tempvar1,tempvar2 in mainvar.items():\n",
    "    print(tempvar1)\n",
    "    print(tempvar2)\n",
    "\n"
   ]
  },
  {
   "cell_type": "code",
   "execution_count": 126,
   "id": "dfc0ec7f-2233-4de0-8026-2aa32663697e",
   "metadata": {},
   "outputs": [
    {
     "name": "stdout",
     "output_type": "stream",
     "text": [
      "{'colour': 'green', 'points': 10, 'start_position': 'level0', 'current_position': 'level1'}\n"
     ]
    }
   ],
   "source": [
    "print(alien)"
   ]
  },
  {
   "cell_type": "code",
   "execution_count": 128,
   "id": "3cc6562f-6784-4d37-a217-2d7ecf37dbf4",
   "metadata": {},
   "outputs": [
    {
     "name": "stdout",
     "output_type": "stream",
     "text": [
      "colour\n",
      "green\n",
      "points\n",
      "10\n",
      "start_position\n",
      "level0\n",
      "current_position\n",
      "level1\n"
     ]
    }
   ],
   "source": [
    "for k,v in alien.items():\n",
    "    print(k)                      #k,v are key value pairs\n",
    "    print(v)"
   ]
  },
  {
   "cell_type": "code",
   "execution_count": null,
   "id": "09b6388c-7acd-4adc-a30a-b61b63a6fb72",
   "metadata": {},
   "outputs": [],
   "source": []
  },
  {
   "cell_type": "code",
   "execution_count": null,
   "id": "1df824f8-79be-45e4-af1b-bf07dec11eb6",
   "metadata": {},
   "outputs": [],
   "source": []
  },
  {
   "cell_type": "code",
   "execution_count": null,
   "id": "bbc317ca-2c16-424c-a0e9-27e27e3d44bf",
   "metadata": {},
   "outputs": [],
   "source": []
  }
 ],
 "metadata": {
  "kernelspec": {
   "display_name": "Python 3 (ipykernel)",
   "language": "python",
   "name": "python3"
  },
  "language_info": {
   "codemirror_mode": {
    "name": "ipython",
    "version": 3
   },
   "file_extension": ".py",
   "mimetype": "text/x-python",
   "name": "python",
   "nbconvert_exporter": "python",
   "pygments_lexer": "ipython3",
   "version": "3.12.4"
  }
 },
 "nbformat": 4,
 "nbformat_minor": 5
}
